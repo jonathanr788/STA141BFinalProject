{
 "cells": [
  {
   "cell_type": "markdown",
   "metadata": {},
   "source": [
    "# STA 141B Final Project - \n",
    "By Jonathan Ramirez (917484777) and Youjung Hong"
   ]
  },
  {
   "cell_type": "code",
   "execution_count": 2,
   "metadata": {},
   "outputs": [
    {
     "name": "stdout",
     "output_type": "stream",
     "text": [
      "Genres:\n",
      "28: Action\n",
      "12: Adventure\n",
      "16: Animation\n",
      "35: Comedy\n",
      "80: Crime\n",
      "99: Documentary\n",
      "18: Drama\n",
      "10751: Family\n",
      "14: Fantasy\n",
      "36: History\n",
      "27: Horror\n",
      "10402: Music\n",
      "9648: Mystery\n",
      "10749: Romance\n",
      "878: Science Fiction\n",
      "10770: TV Movie\n",
      "53: Thriller\n",
      "10752: War\n",
      "37: Western\n",
      "\n",
      "Popular Movies in Action Genre:\n",
      "Freelance\n",
      "The Dark Kingdom\n",
      "Shockwave: Countdown to Disaster\n",
      "The Creator\n",
      "Reign of Chaos\n",
      "Fast X\n",
      "Robot Apocalypse\n",
      "Come Out Fighting\n",
      "Mission: Impossible - Dead Reckoning Part One\n",
      "Expend4bles\n",
      "The Marvels\n",
      "The Hunger Games: The Ballad of Songbirds & Snakes\n",
      "Godzilla Minus One\n",
      "Agent Jade Black\n",
      "Mousa\n",
      "Inferno\n",
      "The Equalizer 3\n",
      "Spider-Man: Across the Spider-Verse\n",
      "A Man of Reason\n",
      "Princess Khutulun\n"
     ]
    }
   ],
   "source": [
    "\n",
    "import requests\n",
    "import json\n",
    "\n",
    "def get_genres(api_key):\n",
    "    \"\"\"Fetch movie genres from TMDb.\"\"\"\n",
    "    url = \"https://api.themoviedb.org/3/genre/movie/list?api_key={}&language=en-US\".format(api_key)\n",
    "    response = requests.get(url)\n",
    "    if response.status_code == 200:\n",
    "        return response.json()['genres']\n",
    "    else:\n",
    "        return None\n",
    "\n",
    "def get_popular_movies_by_genre(api_key, genre_id):\n",
    "    \"\"\"Fetch popular movies for a specific genre.\"\"\"\n",
    "    url = \"https://api.themoviedb.org/3/discover/movie?api_key={}&with_genres={}\".format(api_key, genre_id)\n",
    "    response = requests.get(url)\n",
    "    if response.status_code == 200:\n",
    "        return response.json()['results']\n",
    "    else:\n",
    "        return None\n",
    "\n",
    "# Replace with your TMDb API key\n",
    "api_key = 'fe4ce57ae1def46fc40c26653707478f'\n",
    "\n",
    "\n",
    "\n",
    "# Get genres\n",
    "genres = get_genres(api_key)\n",
    "if genres:\n",
    "    print(\"Genres:\")\n",
    "    for genre in genres:\n",
    "        print(f\"{genre['id']}: {genre['name']}\")\n",
    "    \n",
    "    # Fetch popular movies for a specific genre\n",
    "    genre_id = genres[0]['id']  # Replace with desired genre ID\n",
    "    popular_movies = get_popular_movies_by_genre(api_key, genre_id)\n",
    "    if popular_movies:\n",
    "        print(f\"\\nPopular Movies in {genres[0]['name']} Genre:\")\n",
    "        for movie in popular_movies:\n",
    "            print(f\"{movie['title']}\")\n",
    "else:\n",
    "    print(\"Failed to fetch genres\")\n",
    "\n"
   ]
  }
 ],
 "metadata": {
  "kernelspec": {
   "display_name": "base",
   "language": "python",
   "name": "python3"
  },
  "language_info": {
   "codemirror_mode": {
    "name": "ipython",
    "version": 3
   },
   "file_extension": ".py",
   "mimetype": "text/x-python",
   "name": "python",
   "nbconvert_exporter": "python",
   "pygments_lexer": "ipython3",
   "version": "3.11.5"
  }
 },
 "nbformat": 4,
 "nbformat_minor": 2
}
